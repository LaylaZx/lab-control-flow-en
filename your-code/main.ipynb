{
  "cells": [
    {
      "cell_type": "markdown",
      "metadata": {
        "id": "02X4h2Jnzdsf"
      },
      "source": [
        "## Words"
      ]
    },
    {
      "cell_type": "markdown",
      "source": [
        "Layla Alsulaimani"
      ],
      "metadata": {
        "id": "9RBq9qgl-az3"
      }
    },
    {
      "cell_type": "code",
      "execution_count": null,
      "metadata": {
        "id": "qNAtfwBJzdsl"
      },
      "outputs": [],
      "source": [
        "words = ['play', 'filling', 'bar', 'theatre', 'easygoing', 'date', 'lead', 'that', 'story',  'island']"
      ]
    },
    {
      "cell_type": "markdown",
      "metadata": {
        "id": "Nb18Acu9zdsm"
      },
      "source": [
        "**Print every word in upper case**"
      ]
    },
    {
      "cell_type": "code",
      "execution_count": null,
      "metadata": {
        "colab": {
          "base_uri": "https://localhost:8080/"
        },
        "id": "XHZVaI4dzdsn",
        "outputId": "bef5b023-849d-496b-976d-1e5f8e312177"
      },
      "outputs": [
        {
          "output_type": "stream",
          "name": "stdout",
          "text": [
            "PLAY\n",
            "FILLING\n",
            "BAR\n",
            "THEATRE\n",
            "EASYGOING\n",
            "DATE\n",
            "LEAD\n",
            "THAT\n",
            "STORY\n",
            "ISLAND\n"
          ]
        }
      ],
      "source": [
        "for word in words:\n",
        "    print(word.upper())"
      ]
    },
    {
      "cell_type": "markdown",
      "metadata": {
        "id": "lc9PY8jszdso"
      },
      "source": [
        "**Create a new list containing only words with 5 or more letters**"
      ]
    },
    {
      "cell_type": "code",
      "execution_count": 6,
      "metadata": {
        "id": "f0TQzSoizdso",
        "colab": {
          "base_uri": "https://localhost:8080/"
        },
        "outputId": "e1557c7b-111b-44e4-ea7b-48dce440eb82"
      },
      "outputs": [
        {
          "output_type": "stream",
          "name": "stdout",
          "text": [
            "['filling', 'theatre', 'easygoing', 'story', 'island']\n"
          ]
        }
      ],
      "source": [
        "\n",
        "newWords = []\n",
        "for word in words:\n",
        "    if len(word) >= 5:\n",
        "        newWords.append(word)\n",
        "print(newWords)\n"
      ]
    },
    {
      "cell_type": "markdown",
      "metadata": {
        "id": "gcUUaFg5zdsp"
      },
      "source": [
        "**Print the first word starting with \"t\"**"
      ]
    },
    {
      "cell_type": "code",
      "execution_count": 7,
      "metadata": {
        "id": "WGv03Gtezdsq",
        "colab": {
          "base_uri": "https://localhost:8080/"
        },
        "outputId": "3f9d8f8b-5774-4334-86ba-0c46b080431e"
      },
      "outputs": [
        {
          "output_type": "stream",
          "name": "stdout",
          "text": [
            "theatre\n"
          ]
        }
      ],
      "source": [
        "for word in words:\n",
        "    if word[0] == 't':\n",
        "        print(word)\n",
        "        break"
      ]
    },
    {
      "cell_type": "markdown",
      "metadata": {
        "id": "AjsVdvE0zdsq"
      },
      "source": [
        "## Numbers"
      ]
    },
    {
      "cell_type": "markdown",
      "metadata": {
        "id": "AMLg3Ittzdsr"
      },
      "source": [
        "**Create a list containing the square of every number from 1 to 10**"
      ]
    },
    {
      "cell_type": "code",
      "execution_count": 8,
      "metadata": {
        "id": "wycWmyb_zdsr",
        "colab": {
          "base_uri": "https://localhost:8080/"
        },
        "outputId": "efde1c3d-ea72-40f5-e8f2-bc6a7ea27494"
      },
      "outputs": [
        {
          "output_type": "stream",
          "name": "stdout",
          "text": [
            "[1, 2, 3, 4, 5, 6, 7, 8, 9, 10]\n"
          ]
        }
      ],
      "source": [
        "ls=[ i for i in range(1,11)]\n",
        "print(ls)"
      ]
    },
    {
      "cell_type": "markdown",
      "metadata": {
        "id": "Lkgli6rZzdsr"
      },
      "source": [
        "**Print a list containing the square of every odd number from 1 to 10**"
      ]
    },
    {
      "cell_type": "code",
      "execution_count": 9,
      "metadata": {
        "id": "7qnp4vVzzdss",
        "colab": {
          "base_uri": "https://localhost:8080/"
        },
        "outputId": "dcc1daca-e08e-4b8a-fc4b-eb3ab2cae015"
      },
      "outputs": [
        {
          "output_type": "stream",
          "name": "stdout",
          "text": [
            "[1, 9, 25, 49, 81]\n"
          ]
        }
      ],
      "source": [
        "squared_odd_lst = [i**2 for i in range(1,11) if i%2!=0]\n",
        "print(squared_odd_lst)"
      ]
    },
    {
      "cell_type": "markdown",
      "metadata": {
        "id": "QGQPUZjEzdss"
      },
      "source": [
        "**Create a list with the squares of all multiples of 8 below 1000**"
      ]
    },
    {
      "cell_type": "code",
      "execution_count": 10,
      "metadata": {
        "id": "dfs-S5tDzdss",
        "colab": {
          "base_uri": "https://localhost:8080/"
        },
        "outputId": "19834792-ada5-4433-e72d-2d1aa37a1929"
      },
      "outputs": [
        {
          "output_type": "stream",
          "name": "stdout",
          "text": [
            "[64, 256, 576, 1024, 1600, 2304, 3136, 4096, 5184, 6400, 7744, 9216, 10816, 12544, 14400, 16384, 18496, 20736, 23104, 25600, 28224, 30976, 33856, 36864, 40000, 43264, 46656, 50176, 53824, 57600, 61504, 65536, 69696, 73984, 78400, 82944, 87616, 92416, 97344, 102400, 107584, 112896, 118336, 123904, 129600, 135424, 141376, 147456, 153664, 160000, 166464, 173056, 179776, 186624, 193600, 200704, 207936, 215296, 222784, 230400, 238144, 246016, 254016, 262144, 270400, 278784, 287296, 295936, 304704, 313600, 322624, 331776, 341056, 350464, 360000, 369664, 379456, 389376, 399424, 409600, 419904, 430336, 440896, 451584, 462400, 473344, 484416, 495616, 506944, 518400, 529984, 541696, 553536, 565504, 577600, 589824, 602176, 614656, 627264, 640000, 652864, 665856, 678976, 692224, 705600, 719104, 732736, 746496, 760384, 774400, 788544, 802816, 817216, 831744, 846400, 861184, 876096, 891136, 906304, 921600, 937024, 952576, 968256, 984064]\n"
          ]
        }
      ],
      "source": [
        "ls_8mult = [i**2 for i in range(1,1000) if i%8==0]\n",
        "print(ls_8mult)"
      ]
    },
    {
      "cell_type": "markdown",
      "metadata": {
        "id": "Qvyxd8UZzdss"
      },
      "source": [
        "## People"
      ]
    },
    {
      "cell_type": "code",
      "execution_count": 11,
      "metadata": {
        "id": "GaOFnZQozdst"
      },
      "outputs": [],
      "source": [
        "people = [\n",
        "    {\n",
        "        \"name\": \"Juan\",\n",
        "        \"age\": 34,\n",
        "        \"n_kids\": 2\n",
        "    },\n",
        "    {\n",
        "        \"name\": \"Pepe\",\n",
        "        \"age\": 27,\n",
        "        \"n_kids\": 0\n",
        "    },\n",
        "    {\n",
        "        \"name\": \"Sonia\",\n",
        "        \"age\": 41,\n",
        "        \"n_kids\": 1\n",
        "    },\n",
        "    {\n",
        "        \"name\": \"Lucía\",\n",
        "        \"age\": 22,\n",
        "        \"n_kids\": 2\n",
        "    },\n",
        "    {\n",
        "        \"name\": \"Leo\",\n",
        "        \"age\": 55,\n",
        "        \"n_kids\": 5\n",
        "    }\n",
        "]"
      ]
    },
    {
      "cell_type": "markdown",
      "metadata": {
        "id": "jc_OFqJczdsu"
      },
      "source": [
        "**How many people are there?**"
      ]
    },
    {
      "cell_type": "code",
      "execution_count": 12,
      "metadata": {
        "id": "OO_DAddOzdsu",
        "colab": {
          "base_uri": "https://localhost:8080/"
        },
        "outputId": "0a0896ca-9736-4e6f-b19b-411bd6eb7be7"
      },
      "outputs": [
        {
          "output_type": "execute_result",
          "data": {
            "text/plain": [
              "5"
            ]
          },
          "metadata": {},
          "execution_count": 12
        }
      ],
      "source": [
        "len(people)\n",
        "# 5 people"
      ]
    },
    {
      "cell_type": "markdown",
      "metadata": {
        "id": "W9B3Q1w7zdsu"
      },
      "source": [
        "**How many people have kids**?"
      ]
    },
    {
      "cell_type": "code",
      "execution_count": 13,
      "metadata": {
        "id": "zdgBzM3Vzdsu",
        "colab": {
          "base_uri": "https://localhost:8080/"
        },
        "outputId": "b8af943e-f666-4308-d62e-cc591ab75d02"
      },
      "outputs": [
        {
          "output_type": "stream",
          "name": "stdout",
          "text": [
            "Juan\n",
            "Sonia\n",
            "Lucía\n",
            "Leo\n"
          ]
        }
      ],
      "source": [
        "for dic in people:\n",
        "    # check if each person has a kid, usin the kids key\n",
        "    if dic['n_kids'] > 0:\n",
        "        print(dic['name'])"
      ]
    },
    {
      "cell_type": "markdown",
      "metadata": {
        "id": "02EFrCEYzdsv"
      },
      "source": [
        "**How many kids do they have in total?**"
      ]
    },
    {
      "cell_type": "code",
      "execution_count": 16,
      "metadata": {
        "id": "u8Wq0Gbqzdsv",
        "colab": {
          "base_uri": "https://localhost:8080/"
        },
        "outputId": "4218df04-142a-46af-84d5-459746e266b7"
      },
      "outputs": [
        {
          "output_type": "stream",
          "name": "stdout",
          "text": [
            "10\n"
          ]
        }
      ],
      "source": [
        "totalKids = 0\n",
        "for dic in people:\n",
        "    # add the munber of the kids to the total\n",
        "    totalKids += dic['n_kids']\n",
        "print(totalKids)"
      ]
    },
    {
      "cell_type": "markdown",
      "metadata": {
        "id": "v1hcmnknzdsv"
      },
      "source": [
        "**In a year's time, names ending with \"a\" will have an extra kid. Create a list of dictionaries with people's info in a year's time**"
      ]
    },
    {
      "cell_type": "code",
      "execution_count": 17,
      "metadata": {
        "id": "0vwLnsO1zdsv",
        "colab": {
          "base_uri": "https://localhost:8080/"
        },
        "outputId": "ad2759bc-d0b1-4620-8e51-2ce736a8cb87"
      },
      "outputs": [
        {
          "output_type": "stream",
          "name": "stdout",
          "text": [
            "[{'name': 'Juan', 'age': 35, 'n_kids': 2}, {'name': 'Pepe', 'age': 28, 'n_kids': 0}, {'name': 'Sonia', 'age': 42, 'n_kids': 2}, {'name': 'Lucía', 'age': 23, 'n_kids': 3}, {'name': 'Leo', 'age': 56, 'n_kids': 5}]\n"
          ]
        }
      ],
      "source": [
        "new_year_people = []\n",
        "for person in people:\n",
        "    #make a shalow copy for each dictionry in the list\n",
        "    new_person = person.copy()\n",
        "    # edit the age\n",
        "    new_person[\"age\"] += 1\n",
        "\n",
        "    #check if the last letter of the name = a\n",
        "    if new_person[\"name\"][-1]==\"a\":\n",
        "        # add the new born kid\n",
        "        new_person[\"n_kids\"] += 1\n",
        "    new_year_people.append(new_person)\n",
        "\n",
        "print(new_year_people)"
      ]
    },
    {
      "cell_type": "markdown",
      "source": [],
      "metadata": {
        "id": "vXTi-2Df-ZP4"
      }
    }
  ],
  "metadata": {
    "kernelspec": {
      "display_name": "Python 3 (ipykernel)",
      "language": "python",
      "name": "python3"
    },
    "language_info": {
      "codemirror_mode": {
        "name": "ipython",
        "version": 3
      },
      "file_extension": ".py",
      "mimetype": "text/x-python",
      "name": "python",
      "nbconvert_exporter": "python",
      "pygments_lexer": "ipython3",
      "version": "3.9.13"
    },
    "toc": {
      "base_numbering": 1,
      "nav_menu": {},
      "number_sections": false,
      "sideBar": true,
      "skip_h1_title": false,
      "title_cell": "Table of Contents",
      "title_sidebar": "Contents",
      "toc_cell": false,
      "toc_position": {},
      "toc_section_display": true,
      "toc_window_display": true
    },
    "varInspector": {
      "cols": {
        "lenName": 16,
        "lenType": 16,
        "lenVar": 40
      },
      "kernels_config": {
        "python": {
          "delete_cmd_postfix": "",
          "delete_cmd_prefix": "del ",
          "library": "var_list.py",
          "varRefreshCmd": "print(var_dic_list())"
        },
        "r": {
          "delete_cmd_postfix": ") ",
          "delete_cmd_prefix": "rm(",
          "library": "var_list.r",
          "varRefreshCmd": "cat(var_dic_list()) "
        }
      },
      "types_to_exclude": [
        "module",
        "function",
        "builtin_function_or_method",
        "instance",
        "_Feature"
      ],
      "window_display": false
    },
    "vscode": {
      "interpreter": {
        "hash": "aee8b7b246df8f9039afb4144a1f6fd8d2ca17a180786b69acc140d282b71a49"
      }
    },
    "colab": {
      "provenance": []
    }
  },
  "nbformat": 4,
  "nbformat_minor": 0
}